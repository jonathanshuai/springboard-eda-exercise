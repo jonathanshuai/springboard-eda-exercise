{
 "cells": [
  {
   "cell_type": "markdown",
   "metadata": {},
   "source": [
    "# What is the True Normal Human Body Temperature? \n",
    "\n",
    "#### Background\n",
    "\n",
    "The mean normal body temperature was held to be 37$^{\\circ}$C or 98.6$^{\\circ}$F for more than 120 years since it was first conceptualized and reported by Carl Wunderlich in a famous 1868 book. But, is this value statistically correct?"
   ]
  },
  {
   "cell_type": "markdown",
   "metadata": {},
   "source": [
    "<h3>Exercises</h3>\n",
    "\n",
    "<p>In this exercise, you will analyze a dataset of human body temperatures and employ the concepts of hypothesis testing, confidence intervals, and statistical significance.</p>\n",
    "\n",
    "<p>Answer the following questions <b>in this notebook below and submit to your Github account</b>.</p> \n",
    "\n",
    "<ol>\n",
    "<li>  Is the distribution of body temperatures normal? \n",
    "    <ul>\n",
    "    <li> Although this is not a requirement for the Central Limit Theorem to hold (read the introduction on Wikipedia's page about the CLT carefully: https://en.wikipedia.org/wiki/Central_limit_theorem), it gives us some peace of mind that the population may also be normally distributed if we assume that this sample is representative of the population.\n",
    "    <li> Think about the way you're going to check for the normality of the distribution. Graphical methods are usually used first, but there are also other ways: https://en.wikipedia.org/wiki/Normality_test\n",
    "    </ul>\n",
    "<li>  Is the sample size large? Are the observations independent?\n",
    "    <ul>\n",
    "    <li> Remember that this is a condition for the Central Limit Theorem, and hence the statistical tests we are using, to apply.\n",
    "    </ul>\n",
    "<li>  Is the true population mean really 98.6 degrees F?\n",
    "    <ul>\n",
    "    <li> First, try a bootstrap hypothesis test.\n",
    "    <li> Now, let's try frequentist statistical testing. Would you use a one-sample or two-sample test? Why?\n",
    "    <li> In this situation, is it appropriate to use the $t$ or $z$ statistic? \n",
    "    <li> Now try using the other test. How is the result be different? Why?\n",
    "    </ul>\n",
    "<li>  Draw a small sample of size 10 from the data and repeat both frequentist tests. \n",
    "    <ul>\n",
    "    <li> Which one is the correct one to use? \n",
    "    <li> What do you notice? What does this tell you about the difference in application of the $t$ and $z$ statistic?\n",
    "    </ul>\n",
    "<li>  At what temperature should we consider someone's temperature to be \"abnormal\"?\n",
    "    <ul>\n",
    "    <li> As in the previous example, try calculating everything using the boostrap approach, as well as the frequentist approach.\n",
    "    <li> Start by computing the margin of error and confidence interval. When calculating the confidence interval, keep in mind that you should use the appropriate formula for one draw, and not N draws.\n",
    "    </ul>\n",
    "<li>  Is there a significant difference between males and females in normal temperature?\n",
    "    <ul>\n",
    "    <li> What testing approach did you use and why?\n",
    "    <li> Write a story with your conclusion in the context of the original problem.\n",
    "    </ul>\n",
    "</ol>\n",
    "\n",
    "You can include written notes in notebook cells using Markdown: \n",
    "   - In the control panel at the top, choose Cell > Cell Type > Markdown\n",
    "   - Markdown syntax: http://nestacms.com/docs/creating-content/markdown-cheat-sheet\n",
    "\n",
    "#### Resources\n",
    "\n",
    "+ Information and data sources: http://www.amstat.org/publications/jse/datasets/normtemp.txt, http://www.amstat.org/publications/jse/jse_data_archive.htm\n",
    "+ Markdown syntax: http://nestacms.com/docs/creating-content/markdown-cheat-sheet\n",
    "\n",
    "****"
   ]
  },
  {
   "cell_type": "code",
   "execution_count": 1,
   "metadata": {},
   "outputs": [],
   "source": [
    "import pandas as pd\n",
    "import matplotlib as mpl\n",
    "from matplotlib import pyplot as plt\n",
    "import numpy as np\n",
    "\n",
    "from scipy.stats import norm\n",
    "from scipy.stats import t\n",
    "\n",
    "df = pd.read_csv('data/human_body_temperature.csv')"
   ]
  },
  {
   "cell_type": "markdown",
   "metadata": {},
   "source": [
    "## 1. Is the distribution of body temperatures normal?"
   ]
  },
  {
   "cell_type": "code",
   "execution_count": 2,
   "metadata": {},
   "outputs": [
    {
     "data": {
      "image/png": "[encoded data removed]",
      "text/plain": [
       "<matplotlib.figure.Figure at 0x7f1e0e055780>"
      ]
     },
     "metadata": {},
     "output_type": "display_data"
    }
   ],
   "source": [
    "df['temperature'].plot(kind='hist', edgecolor='k')\n",
    "plt.show()"
   ]
  },
  {
   "cell_type": "markdown",
   "metadata": {},
   "source": [
    "### The distribution of body temperatures appears to be normally distributed (maybe a bit right skewed?)."
   ]
  },
  {
   "cell_type": "markdown",
   "metadata": {},
   "source": [
    "## 2. Is the sample size large? Are the observations independent?"
   ]
  },
  {
   "cell_type": "code",
   "execution_count": 3,
   "metadata": {},
   "outputs": [
    {
     "name": "stdout",
     "output_type": "stream",
     "text": [
      "Number of observations: 130\n"
     ]
    }
   ],
   "source": [
    "print(\"Number of observations: {}\".format(df.shape[0]))"
   ]
  },
  {
   "cell_type": "markdown",
   "metadata": {},
   "source": [
    "### The sample size is large enough. According to the source of the dataset, the data was constructed to match a dataset that took several measurements from the 148 men and women 1-4 times daily, which may indicate that some of the observations may not be independent."
   ]
  },
  {
   "cell_type": "markdown",
   "metadata": {},
   "source": [
    "## 3. Is the true population mean really 98.6 degrees F?"
   ]
  },
  {
   "cell_type": "code",
   "execution_count": 4,
   "metadata": {},
   "outputs": [
    {
     "name": "stdout",
     "output_type": "stream",
     "text": [
      "Sample mean: 98.24923076923078\n",
      "95% confidence interval: (98.47615384615384, 98.72615384615384)\n",
      "99% confidence interval: (98.4353846153846, 98.76538461538459)\n",
      "p_value: 0.0\n"
     ]
    }
   ],
   "source": [
    "# First, using bootstrap samples\n",
    "temps = df['temperature']\n",
    "n = temps.shape[0]\n",
    "temps_mean = temps.mean()\n",
    "print(\"Sample mean: {}\".format(temps_mean))\n",
    "\n",
    "mu = 98.6\n",
    "hypothesis_temps = temps - temps_mean + mu\n",
    "bootstrap_samples = [np.random.choice(hypothesis_temps, n) for _ in range(10000)]\n",
    "bootstrap_samples = np.array(bootstrap_samples)\n",
    "\n",
    "bootstrap_means = bootstrap_samples.mean(axis=1)\n",
    "p_value = (bootstrap_means < temps_mean).mean()\n",
    "\n",
    "ci = np.percentile(bootstrap_means, [2.5, 97.5])\n",
    "print(\"95% confidence interval: ({}, {})\".format(*ci))\n",
    "ci = np.percentile(bootstrap_means, [0.5, 99.5])\n",
    "print(\"99% confidence interval: ({}, {})\".format(*ci))\n",
    "print(\"p_value: {}\".format(p_value))"
   ]
  },
  {
   "cell_type": "markdown",
   "metadata": {},
   "source": [
    "### The sample mean is 98.249, less than the hypothesized population mean. From the bootstrapping test, we can see the p value is extremely small (meaning none of the 10000 were as extreme as the sample mean). Furthermore, the confidence interval for the hypothesis mean does not even come close to the sample mean. The data suggests the true population mean for body temperature is less than 98.6 "
   ]
  },
  {
   "cell_type": "code",
   "execution_count": 5,
   "metadata": {},
   "outputs": [
    {
     "name": "stdout",
     "output_type": "stream",
     "text": [
      "z-test p_value: 2.45107850705669e-08\n",
      "t-test p_value: 1.2053160207804971e-07\n"
     ]
    }
   ],
   "source": [
    "# Using a one sample z-test\n",
    "temps_var = temps.var()\n",
    "z_score = (temps_mean - mu) / np.sqrt(temps_var / n)\n",
    "p_value = norm.cdf(z_score)\n",
    "print(\"z-test p_value: {}\".format(p_value))\n",
    "\n",
    "t_score = (temps_mean - mu) / np.sqrt(temps_var / n)\n",
    "p_value = t.cdf(t_score, n - 1)\n",
    "print(\"t-test p_value: {}\".format(p_value))"
   ]
  },
  {
   "cell_type": "markdown",
   "metadata": {},
   "source": [
    "### We use a one-sample z-test here because we have a one sample with a large number of observations (n > 30). With the z-test, we got a p_value of 2.45e-08.\n",
    "\n",
    "### The t-test is used when sample size is small and population variance is unknown. With lower degrees of freedom, the t-distribution has heavier tails, as it is robust to outliers. When degrees of freedom increase, the t-distribution converges to the standard nomral distribution. Here, we can see that the p values are similar, but the p value for the t test is a bit higher because it is more forgiving of outliers in the dataset."
   ]
  },
  {
   "cell_type": "markdown",
   "metadata": {},
   "source": [
    "## 4. Draw a small sample of size 10 from the data and repeat both frequentist tests."
   ]
  },
  {
   "cell_type": "code",
   "execution_count": 8,
   "metadata": {},
   "outputs": [
    {
     "name": "stdout",
     "output_type": "stream",
     "text": [
      "z-test p_value: 0.0651530676032717\n",
      "t-test p_value: 0.08229965403110287\n"
     ]
    }
   ],
   "source": [
    "# Using a one sample z-test\n",
    "sample_size = 10\n",
    "temp_samples = df['temperature'].sample(sample_size)\n",
    "sample_mean = temps.mean()\n",
    "sample_var = temps.var()\n",
    "\n",
    "z_score = (sample_mean - mu) / np.sqrt(sample_var / sample_size)\n",
    "p_value = norm.cdf(z_score)\n",
    "print(\"z-test p_value: {}\".format(p_value))\n",
    "\n",
    "t_score = (sample_mean - mu) / np.sqrt(sample_var / sample_size)\n",
    "p_value = t.cdf(t_score, sample_size - 1)\n",
    "print(\"t-test p_value: {}\".format(p_value))"
   ]
  },
  {
   "cell_type": "markdown",
   "metadata": {},
   "source": [
    "### The t-test should be used when sample size is small and population variance is unknown. Once again, the p value for the t-test is higher than the p value from the z-test. In other words, we can see that the t-test is more conservative (it won't reject the null hypothesis even when outliers are in the sample)."
   ]
  },
  {
   "cell_type": "markdown",
   "metadata": {},
   "source": [
    "## 5. At what temperature should we consider someone's temperature to be \"abnormal\"?"
   ]
  },
  {
   "cell_type": "code",
   "execution_count": 10,
   "metadata": {},
   "outputs": [
    {
     "name": "stdout",
     "output_type": "stream",
     "text": [
      "95% confidence interval: (98.12536538461538, 98.3753846153846)\n",
      "99% confidence interval: (98.08998076923078, 98.41692307692308)\n"
     ]
    }
   ],
   "source": [
    "# Using bootstrap samples\n",
    "bootstrap_samples = np.array([np.random.choice(temps, n) for _ in range(10000)])\n",
    "bootstrap_means = bootstrap_samples.mean(axis=1)\n",
    "\n",
    "ci = np.percentile(bootstrap_means, [2.5, 97.5])\n",
    "print(\"95% confidence interval: ({}, {})\".format(*ci))\n",
    "ci = np.percentile(bootstrap_means, [0.5, 99.5])\n",
    "print(\"99% confidence interval: ({}, {})\".format(*ci))"
   ]
  },
  {
   "cell_type": "markdown",
   "metadata": {},
   "source": [
    "### With a 99% confidence interval, temperature may be considered abnormal if it goes below 98.1 or above 98.4 degrees Farenheight."
   ]
  },
  {
   "cell_type": "code",
   "execution_count": 30,
   "metadata": {},
   "outputs": [
    {
     "name": "stdout",
     "output_type": "stream",
     "text": [
      "95% confidence interval: (98.12319642818166, 98.3752651102799)\n",
      "99% confidence interval: (98.08359356799211, 98.41486797046944)\n"
     ]
    }
   ],
   "source": [
    "# Using z-test\n",
    "critical_value = norm.ppf(0.975)\n",
    "diff = critical_value * np.sqrt(temps_var / n) \n",
    "ci = [temps_mean - diff, temps_mean + diff]\n",
    "print(\"95% confidence interval: ({}, {})\".format(*ci))\n",
    "\n",
    "critical_value = norm.ppf(0.995)\n",
    "diff = critical_value * np.sqrt(temps_var / n) \n",
    "ci = [temps_mean - diff, temps_mean + diff]\n",
    "print(\"99% confidence interval: ({}, {})\".format(*ci))"
   ]
  },
  {
   "cell_type": "markdown",
   "metadata": {},
   "source": [
    "### We got very similar results with the z test as we did with bootstrap sampling method."
   ]
  },
  {
   "cell_type": "markdown",
   "metadata": {
    "collapsed": true
   },
   "source": [
    "## 6. Is there a significant difference between males and females in normal temperature?"
   ]
  },
  {
   "cell_type": "code",
   "execution_count": 32,
   "metadata": {},
   "outputs": [
    {
     "name": "stdout",
     "output_type": "stream",
     "text": [
      "z-test p_value: 0.01114368038033863\n"
     ]
    }
   ],
   "source": [
    "male_temps = df[df['gender'] == 'M']['temperature']\n",
    "female_temps = df[df['gender'] == 'F']['temperature']\n",
    "\n",
    "male_size = male_temps.shape[0]\n",
    "female_size = female_temps.shape[0]\n",
    "\n",
    "male_mean = male_temps.mean()\n",
    "female_mean = female_temps.mean()\n",
    "\n",
    "male_var = male_temps.var()\n",
    "female_var = female_temps.var()\n",
    "\n",
    "z_score = (male_mean - female_mean) / np.sqrt( (male_var / male_size) + (female_var / female_size) )\n",
    "p_value = norm.cdf(z_score)\n",
    "print(\"z-test p_value: {}\".format(p_value))"
   ]
  },
  {
   "cell_type": "code",
   "execution_count": 33,
   "metadata": {},
   "outputs": [
    {
     "data": {
      "text/plain": [
       "0.0115"
      ]
     },
     "execution_count": 33,
     "metadata": {},
     "output_type": "execute_result"
    }
   ],
   "source": [
    "observed_diff = male_mean - female_mean\n",
    "male_bs = np.array([np.random.choice(male_temps - male_mean, male_size) for _ in range(10000)])\n",
    "female_bs = np.array([np.random.choice(female_temps - female_mean, female_size) for _ in range(10000)])\n",
    "\n",
    "male_bs_means = male_bs.mean(axis=1)\n",
    "female_bs_means = female_bs.mean(axis=1)\n",
    "\n",
    "bs_diff = male_bs_means - female_bs_means\n",
    "p_value = (bs_diff <= observed_diff).mean()\n",
    "print(\"percentage bootstrapping p_value: {}\".format(p_value))"
   ]
  },
  {
   "cell_type": "markdown",
   "metadata": {},
   "source": [
    "### Using the z test and bootstrap test, we got similar p_values (~0.011), showing that male and females do have a statistically significant difference in their body temperatures. I prefer to use the z test because it is more computationally efficient."
   ]
  }
 ],
 "metadata": {
  "kernelspec": {
   "display_name": "Python 3",
   "language": "python",
   "name": "python3"
  },
  "language_info": {
   "codemirror_mode": {
    "name": "ipython",
    "version": 3
   },
   "file_extension": ".py",
   "mimetype": "text/x-python",
   "name": "python",
   "nbconvert_exporter": "python",
   "pygments_lexer": "ipython3",
   "version": "3.6.2"
  }
 },
 "nbformat": 4,
 "nbformat_minor": 1
}
